{
  "nbformat": 4,
  "nbformat_minor": 0,
  "metadata": {
    "colab": {
      "provenance": [],
      "authorship_tag": "ABX9TyNqfpyN9z4U05CRUhR1S9cv",
      "include_colab_link": true
    },
    "kernelspec": {
      "name": "python3",
      "display_name": "Python 3"
    },
    "language_info": {
      "name": "python"
    }
  },
  "cells": [
    {
      "cell_type": "markdown",
      "metadata": {
        "id": "view-in-github",
        "colab_type": "text"
      },
      "source": [
        "<a href=\"https://colab.research.google.com/github/farida-bano/idea-of-sunaiya/blob/main/sunaiya.ipynb\" target=\"_parent\"><img src=\"https://colab.research.google.com/assets/colab-badge.svg\" alt=\"Open In Colab\"/></a>"
      ]
    },
    {
      "cell_type": "code",
      "source": [
        "# Function to display the Eidi options\n",
        "def get_eidi():\n",
        "    print(\"📌 Eidi lene ke 3 tareeqe:\")\n",
        "\n",
        "    # Display options for Eidi\n",
        "    print(\"1) Seedha eidi maang lo\")\n",
        "    print(\"2) Pyar se hint de do\")\n",
        "    print(\"3) Koi aur tumhari taraf se maang le\")\n",
        "\n",
        "    # Get the user's choice\n",
        "    choice = input(\"Kaunsa tareeqa use karte ho? (1, 2, or 3): \")\n",
        "\n",
        "    # Display the appropriate response based on choice\n",
        "    if choice == \"1\":\n",
        "        print(\"Aap seedha eidi maang rahe ho! 😅\")\n",
        "    elif choice == \"2\":\n",
        "        print(\"Aap pyar se hint de rahe ho! 😉\")\n",
        "    elif choice == \"3\":\n",
        "        print(\"Aap kisike zariye eidi maang rahe ho! 🤫\")\n",
        "    else:\n",
        "        print(\"Invalid choice, please choose 1, 2, or 3.\")\n",
        "\n",
        "# Call the function to get user input and display the result\n",
        "get_eidi()\n"
      ],
      "metadata": {
        "colab": {
          "base_uri": "https://localhost:8080/"
        },
        "id": "ZOuAjadN1D3i",
        "outputId": "e0729e2d-4c12-4623-ef4c-8fc54ce19a57"
      },
      "execution_count": 4,
      "outputs": [
        {
          "output_type": "stream",
          "name": "stdout",
          "text": [
            "📌 Eidi lene ke 3 tareeqe:\n",
            "1) Seedha eidi maang lo\n",
            "2) Pyar se hint de do\n",
            "3) Koi aur tumhari taraf se maang le\n",
            "Kaunsa tareeqa use karte ho? (1, 2, or 3): 1\n",
            "Aap seedha eidi maang rahe ho! 😅\n"
          ]
        }
      ]
    }
  ]
}